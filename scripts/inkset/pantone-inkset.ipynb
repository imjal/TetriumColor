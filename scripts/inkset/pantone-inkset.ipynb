{
 "cells": [
  {
   "cell_type": "code",
   "execution_count": 1,
   "id": "362b28c0",
   "metadata": {},
   "outputs": [
    {
     "name": "stdout",
     "output_type": "stream",
     "text": [
      "[polyscope] Backend: openGL3_glfw -- Loaded openGL version: 4.1 Metal - 88.1\n"
     ]
    }
   ],
   "source": [
    "import tetrapolyscope as ps\n",
    "import interactive_polyscope\n",
    "from IPython.display import Image, display, HTML\n",
    "\n",
    "%gui polyscope"
   ]
  },
  {
   "cell_type": "code",
   "execution_count": 2,
   "id": "7256b089",
   "metadata": {},
   "outputs": [],
   "source": [
    "import csv\n",
    "import numpy as np\n",
    "import matplotlib.pyplot as plt\n",
    "import numpy.typing as npt\n",
    "\n",
    "import pandas as pd"
   ]
  },
  {
   "cell_type": "code",
   "execution_count": 3,
   "id": "9f1a3cc8",
   "metadata": {},
   "outputs": [
    {
     "name": "stderr",
     "output_type": "stream",
     "text": [
      "objc[73487]: Class GLFWWindowDelegate is implemented in both /Users/jessicalee/anaconda3/envs/chromalab/lib/python3.11/site-packages/polyscope_bindings.cpython-311-darwin.so (0x11264e720) and /Users/jessicalee/anaconda3/envs/chromalab/lib/python3.11/site-packages/open3d/cpu/pybind.cpython-311-darwin.so (0x33b7c2db0). One of the two will be used. Which one is undefined.\n",
      "objc[73487]: Class GLFWApplicationDelegate is implemented in both /Users/jessicalee/anaconda3/envs/chromalab/lib/python3.11/site-packages/polyscope_bindings.cpython-311-darwin.so (0x11264e6f8) and /Users/jessicalee/anaconda3/envs/chromalab/lib/python3.11/site-packages/open3d/cpu/pybind.cpython-311-darwin.so (0x33b7c2e28). One of the two will be used. Which one is undefined.\n",
      "objc[73487]: Class GLFWContentView is implemented in both /Users/jessicalee/anaconda3/envs/chromalab/lib/python3.11/site-packages/polyscope_bindings.cpython-311-darwin.so (0x11264e770) and /Users/jessicalee/anaconda3/envs/chromalab/lib/python3.11/site-packages/open3d/cpu/pybind.cpython-311-darwin.so (0x33b7c2e50). One of the two will be used. Which one is undefined.\n",
      "objc[73487]: Class GLFWWindow is implemented in both /Users/jessicalee/anaconda3/envs/chromalab/lib/python3.11/site-packages/polyscope_bindings.cpython-311-darwin.so (0x11264e7e8) and /Users/jessicalee/anaconda3/envs/chromalab/lib/python3.11/site-packages/open3d/cpu/pybind.cpython-311-darwin.so (0x33b7c2ec8). One of the two will be used. Which one is undefined.\n"
     ]
    }
   ],
   "source": [
    "from TetriumColor.Observer import Observer, Cone, Neugebauer, InkGamut, CellNeugebauer, Pigment, Spectra, Illuminant, InkLibrary, load_neugebauer\n",
    "import TetriumColor.Visualization as viz\n",
    "from TetriumColor import ColorSpace, ColorSpaceType, PolyscopeDisplayType"
   ]
  },
  {
   "cell_type": "code",
   "execution_count": 4,
   "id": "f8be8a77",
   "metadata": {},
   "outputs": [],
   "source": [
    "%load_ext autoreload\n",
    "%autoreload 2"
   ]
  },
  {
   "cell_type": "code",
   "execution_count": 5,
   "id": "781d2e68",
   "metadata": {},
   "outputs": [],
   "source": [
    "screenshot_count = 0\n",
    "! mkdir -p screenshots\n",
    "def save_ps_screenshot():\n",
    "    global screenshot_count\n",
    "    ps.show()  # renders window\n",
    "    fname = f\"screenshots/screenshot_{screenshot_count}.png\"\n",
    "    ps.screenshot(fname)\n",
    "    # Display in notebook\n",
    "    display(Image(filename=fname, width=400)) # need to use this for pdf export\n",
    "    # display(HTML(f'<img src=\"screenshot_{screenshot_count}.png\" style=\"width:50%;\">'))\n",
    "\n",
    "    screenshot_count += 1"
   ]
  },
  {
   "cell_type": "code",
   "execution_count": 6,
   "id": "5fd89be1",
   "metadata": {},
   "outputs": [],
   "source": [
    "def save_top_inks_as_csv(top_volumes, filename):\n",
    "    import csv\n",
    "\n",
    "    # Save top_volumes_all_fp_inks to a CSV file\n",
    "    with open(filename, \"w\", newline=\"\") as csvfile:\n",
    "        writer = csv.writer(csvfile)\n",
    "        writer.writerow([\"Volume\", \"Ink Combination\"])  # Header\n",
    "        for volume, inks in top_volumes:\n",
    "            writer.writerow([volume, \", \".join(inks)])  # Write volume and ink combination\n",
    "\n",
    "def load_top_inks(filename):\n",
    "    top_volumes = []\n",
    "    with open(filename, \"r\") as csvfile:\n",
    "        reader = csv.reader(csvfile)\n",
    "        next(reader)  # Skip header\n",
    "        for row in reader:\n",
    "            volume = float(row[0])\n",
    "            inks = row[1].split(\", \")\n",
    "            top_volumes.append((volume, inks))\n",
    "    return top_volumes"
   ]
  },
  {
   "cell_type": "code",
   "execution_count": 7,
   "id": "d6897199",
   "metadata": {},
   "outputs": [],
   "source": [
    "from colorsys import rgb_to_hsv\n",
    "import math\n",
    "\n",
    "def plot_inks_by_hue(ink_dataset, wavelengths):\n",
    "    \"\"\"\n",
    "    Plots the inks in the dataset sorted by hue.\n",
    "\n",
    "    Parameters:\n",
    "    - ink_dataset: dict, a dictionary of ink names and their corresponding Spectra objects.\n",
    "    - wavelengths: numpy.ndarray, array of wavelengths corresponding to the spectra data.\n",
    "    \"\"\"\n",
    "    # Convert RGB to HSV and sort by hue\n",
    "    def get_hue(spectra):\n",
    "        r, g, b = spectra.to_rgb()\n",
    "        h, _, _ = rgb_to_hsv(r, g, b)\n",
    "        return h\n",
    "\n",
    "    # Sort inks by hue\n",
    "    sorted_inks = sorted(ink_dataset.items(), key=lambda item: get_hue(item[1]))\n",
    "\n",
    "    # Plot sorted inks row by row by hue\n",
    "    num_inks = len(sorted_inks)\n",
    "    cols = math.ceil(math.sqrt(num_inks))\n",
    "    rows = math.ceil(num_inks / cols)\n",
    "\n",
    "    plt.figure(figsize=(15, 15))\n",
    "\n",
    "    for idx, (name, spectra) in enumerate(sorted_inks):\n",
    "        plt.subplot(rows, cols, idx + 1)\n",
    "        plt.plot(wavelengths, spectra.data, c=spectra.to_rgb())\n",
    "        plt.title(name[:10], fontsize=8)  # Show only the first 10 characters of the name\n",
    "        plt.xlabel(\"Wavelength (nm)\", fontsize=6)\n",
    "        plt.ylabel(\"Reflectance\", fontsize=6)\n",
    "        plt.grid(True)\n",
    "        plt.xlim(wavelengths[0], wavelengths[-1])\n",
    "        plt.ylim(0, 1)\n",
    "        plt.tick_params(axis='both', which='major', labelsize=6)\n",
    "\n",
    "    plt.tight_layout()\n",
    "    plt.show()\n",
    "\n",
    "\n",
    "def show_top_k_combinations(top_volumes, inkset,  k=10):\n",
    "    \"\"\"\n",
    "    Displays the top k ink combinations with their volumes.\n",
    "    \n",
    "    Parameters:\n",
    "    - top_volumes: list of tuples (volume, [ink names])\n",
    "    - k: number of top combinations to display\n",
    "    \"\"\"\n",
    "    # Plot the spectra of the top inks for the first k entries\n",
    "    plt.figure(figsize=(10, 10))\n",
    "\n",
    "    for idx, (volume, ink_names) in enumerate(top_volumes[:k]):\n",
    "        plt.subplot(math.ceil(k / 4), 4, idx + 1)  # Create a subplot for each entry\n",
    "        for ink_name in ink_names:  # Plot the spectra of the first 4 inks\n",
    "            spectra = inkset[ink_name]\n",
    "            plt.plot(wavelengths, spectra.data, label=ink_name[:10], c=spectra.to_rgb())  # Show only the first 10 characters of the name\n",
    "        plt.title(f\"Volume: {volume:.2e}\", fontsize=10)\n",
    "        plt.xlabel(\"Wavelength (nm)\", fontsize=8)\n",
    "        plt.ylabel(\"Reflectance\", fontsize=8)\n",
    "        plt.grid(True)\n",
    "        plt.xlim(wavelengths[0], wavelengths[-1])\n",
    "        plt.ylim(0, 1)\n",
    "        plt.legend(fontsize=6)\n",
    "        plt.tick_params(axis='both', which='major', labelsize=6)\n",
    "\n",
    "    plt.tight_layout()\n",
    "    plt.show()\n"
   ]
  },
  {
   "cell_type": "markdown",
   "id": "9df89c9b",
   "metadata": {},
   "source": [
    "### Load FP Inkset"
   ]
  },
  {
   "cell_type": "code",
   "execution_count": null,
   "id": "5f474af8",
   "metadata": {},
   "outputs": [
    {
     "ename": "FileNotFoundError",
     "evalue": "[Errno 2] No such file or directory: '../../data/pantone/pantone-inks.csv'",
     "output_type": "error",
     "traceback": [
      "\u001b[0;31m---------------------------------------------------------------------------\u001b[0m",
      "\u001b[0;31mFileNotFoundError\u001b[0m                         Traceback (most recent call last)",
      "Cell \u001b[0;32mIn[8], line 4\u001b[0m\n\u001b[1;32m      1\u001b[0m \u001b[38;5;66;03m### Analyze our 100 ink gamut ###\u001b[39;00m\n\u001b[1;32m      2\u001b[0m    \u001b[38;5;66;03m# Load the CSV data\u001b[39;00m\n\u001b[1;32m      3\u001b[0m data_path \u001b[38;5;241m=\u001b[39m \u001b[38;5;124m\"\u001b[39m\u001b[38;5;124m../../data/pantone/pantone-inks.csv\u001b[39m\u001b[38;5;124m\"\u001b[39m\n\u001b[0;32m----> 4\u001b[0m df \u001b[38;5;241m=\u001b[39m \u001b[43mpd\u001b[49m\u001b[38;5;241;43m.\u001b[39;49m\u001b[43mread_csv\u001b[49m\u001b[43m(\u001b[49m\u001b[43mdata_path\u001b[49m\u001b[43m)\u001b[49m\n\u001b[1;32m      6\u001b[0m spectras \u001b[38;5;241m=\u001b[39m df\u001b[38;5;241m.\u001b[39miloc[:, \u001b[38;5;241m2\u001b[39m:]\u001b[38;5;241m.\u001b[39mto_numpy()  \u001b[38;5;66;03m# Extract reflectance data\u001b[39;00m\n\u001b[1;32m      7\u001b[0m wavelengths \u001b[38;5;241m=\u001b[39m np\u001b[38;5;241m.\u001b[39marange(\u001b[38;5;241m400\u001b[39m, \u001b[38;5;241m701\u001b[39m, \u001b[38;5;241m10\u001b[39m)  \u001b[38;5;66;03m# Wavelengths from 400 to 700 nm in steps of 10 nm\u001b[39;00m\n",
      "File \u001b[0;32m~/anaconda3/envs/chromalab/lib/python3.11/site-packages/pandas/io/parsers/readers.py:1026\u001b[0m, in \u001b[0;36mread_csv\u001b[0;34m(filepath_or_buffer, sep, delimiter, header, names, index_col, usecols, dtype, engine, converters, true_values, false_values, skipinitialspace, skiprows, skipfooter, nrows, na_values, keep_default_na, na_filter, verbose, skip_blank_lines, parse_dates, infer_datetime_format, keep_date_col, date_parser, date_format, dayfirst, cache_dates, iterator, chunksize, compression, thousands, decimal, lineterminator, quotechar, quoting, doublequote, escapechar, comment, encoding, encoding_errors, dialect, on_bad_lines, delim_whitespace, low_memory, memory_map, float_precision, storage_options, dtype_backend)\u001b[0m\n\u001b[1;32m   1013\u001b[0m kwds_defaults \u001b[38;5;241m=\u001b[39m _refine_defaults_read(\n\u001b[1;32m   1014\u001b[0m     dialect,\n\u001b[1;32m   1015\u001b[0m     delimiter,\n\u001b[0;32m   (...)\u001b[0m\n\u001b[1;32m   1022\u001b[0m     dtype_backend\u001b[38;5;241m=\u001b[39mdtype_backend,\n\u001b[1;32m   1023\u001b[0m )\n\u001b[1;32m   1024\u001b[0m kwds\u001b[38;5;241m.\u001b[39mupdate(kwds_defaults)\n\u001b[0;32m-> 1026\u001b[0m \u001b[38;5;28;01mreturn\u001b[39;00m \u001b[43m_read\u001b[49m\u001b[43m(\u001b[49m\u001b[43mfilepath_or_buffer\u001b[49m\u001b[43m,\u001b[49m\u001b[43m \u001b[49m\u001b[43mkwds\u001b[49m\u001b[43m)\u001b[49m\n",
      "File \u001b[0;32m~/anaconda3/envs/chromalab/lib/python3.11/site-packages/pandas/io/parsers/readers.py:620\u001b[0m, in \u001b[0;36m_read\u001b[0;34m(filepath_or_buffer, kwds)\u001b[0m\n\u001b[1;32m    617\u001b[0m _validate_names(kwds\u001b[38;5;241m.\u001b[39mget(\u001b[38;5;124m\"\u001b[39m\u001b[38;5;124mnames\u001b[39m\u001b[38;5;124m\"\u001b[39m, \u001b[38;5;28;01mNone\u001b[39;00m))\n\u001b[1;32m    619\u001b[0m \u001b[38;5;66;03m# Create the parser.\u001b[39;00m\n\u001b[0;32m--> 620\u001b[0m parser \u001b[38;5;241m=\u001b[39m \u001b[43mTextFileReader\u001b[49m\u001b[43m(\u001b[49m\u001b[43mfilepath_or_buffer\u001b[49m\u001b[43m,\u001b[49m\u001b[43m \u001b[49m\u001b[38;5;241;43m*\u001b[39;49m\u001b[38;5;241;43m*\u001b[39;49m\u001b[43mkwds\u001b[49m\u001b[43m)\u001b[49m\n\u001b[1;32m    622\u001b[0m \u001b[38;5;28;01mif\u001b[39;00m chunksize \u001b[38;5;129;01mor\u001b[39;00m iterator:\n\u001b[1;32m    623\u001b[0m     \u001b[38;5;28;01mreturn\u001b[39;00m parser\n",
      "File \u001b[0;32m~/anaconda3/envs/chromalab/lib/python3.11/site-packages/pandas/io/parsers/readers.py:1620\u001b[0m, in \u001b[0;36mTextFileReader.__init__\u001b[0;34m(self, f, engine, **kwds)\u001b[0m\n\u001b[1;32m   1617\u001b[0m     \u001b[38;5;28mself\u001b[39m\u001b[38;5;241m.\u001b[39moptions[\u001b[38;5;124m\"\u001b[39m\u001b[38;5;124mhas_index_names\u001b[39m\u001b[38;5;124m\"\u001b[39m] \u001b[38;5;241m=\u001b[39m kwds[\u001b[38;5;124m\"\u001b[39m\u001b[38;5;124mhas_index_names\u001b[39m\u001b[38;5;124m\"\u001b[39m]\n\u001b[1;32m   1619\u001b[0m \u001b[38;5;28mself\u001b[39m\u001b[38;5;241m.\u001b[39mhandles: IOHandles \u001b[38;5;241m|\u001b[39m \u001b[38;5;28;01mNone\u001b[39;00m \u001b[38;5;241m=\u001b[39m \u001b[38;5;28;01mNone\u001b[39;00m\n\u001b[0;32m-> 1620\u001b[0m \u001b[38;5;28mself\u001b[39m\u001b[38;5;241m.\u001b[39m_engine \u001b[38;5;241m=\u001b[39m \u001b[38;5;28;43mself\u001b[39;49m\u001b[38;5;241;43m.\u001b[39;49m\u001b[43m_make_engine\u001b[49m\u001b[43m(\u001b[49m\u001b[43mf\u001b[49m\u001b[43m,\u001b[49m\u001b[43m \u001b[49m\u001b[38;5;28;43mself\u001b[39;49m\u001b[38;5;241;43m.\u001b[39;49m\u001b[43mengine\u001b[49m\u001b[43m)\u001b[49m\n",
      "File \u001b[0;32m~/anaconda3/envs/chromalab/lib/python3.11/site-packages/pandas/io/parsers/readers.py:1880\u001b[0m, in \u001b[0;36mTextFileReader._make_engine\u001b[0;34m(self, f, engine)\u001b[0m\n\u001b[1;32m   1878\u001b[0m     \u001b[38;5;28;01mif\u001b[39;00m \u001b[38;5;124m\"\u001b[39m\u001b[38;5;124mb\u001b[39m\u001b[38;5;124m\"\u001b[39m \u001b[38;5;129;01mnot\u001b[39;00m \u001b[38;5;129;01min\u001b[39;00m mode:\n\u001b[1;32m   1879\u001b[0m         mode \u001b[38;5;241m+\u001b[39m\u001b[38;5;241m=\u001b[39m \u001b[38;5;124m\"\u001b[39m\u001b[38;5;124mb\u001b[39m\u001b[38;5;124m\"\u001b[39m\n\u001b[0;32m-> 1880\u001b[0m \u001b[38;5;28mself\u001b[39m\u001b[38;5;241m.\u001b[39mhandles \u001b[38;5;241m=\u001b[39m \u001b[43mget_handle\u001b[49m\u001b[43m(\u001b[49m\n\u001b[1;32m   1881\u001b[0m \u001b[43m    \u001b[49m\u001b[43mf\u001b[49m\u001b[43m,\u001b[49m\n\u001b[1;32m   1882\u001b[0m \u001b[43m    \u001b[49m\u001b[43mmode\u001b[49m\u001b[43m,\u001b[49m\n\u001b[1;32m   1883\u001b[0m \u001b[43m    \u001b[49m\u001b[43mencoding\u001b[49m\u001b[38;5;241;43m=\u001b[39;49m\u001b[38;5;28;43mself\u001b[39;49m\u001b[38;5;241;43m.\u001b[39;49m\u001b[43moptions\u001b[49m\u001b[38;5;241;43m.\u001b[39;49m\u001b[43mget\u001b[49m\u001b[43m(\u001b[49m\u001b[38;5;124;43m\"\u001b[39;49m\u001b[38;5;124;43mencoding\u001b[39;49m\u001b[38;5;124;43m\"\u001b[39;49m\u001b[43m,\u001b[49m\u001b[43m \u001b[49m\u001b[38;5;28;43;01mNone\u001b[39;49;00m\u001b[43m)\u001b[49m\u001b[43m,\u001b[49m\n\u001b[1;32m   1884\u001b[0m \u001b[43m    \u001b[49m\u001b[43mcompression\u001b[49m\u001b[38;5;241;43m=\u001b[39;49m\u001b[38;5;28;43mself\u001b[39;49m\u001b[38;5;241;43m.\u001b[39;49m\u001b[43moptions\u001b[49m\u001b[38;5;241;43m.\u001b[39;49m\u001b[43mget\u001b[49m\u001b[43m(\u001b[49m\u001b[38;5;124;43m\"\u001b[39;49m\u001b[38;5;124;43mcompression\u001b[39;49m\u001b[38;5;124;43m\"\u001b[39;49m\u001b[43m,\u001b[49m\u001b[43m \u001b[49m\u001b[38;5;28;43;01mNone\u001b[39;49;00m\u001b[43m)\u001b[49m\u001b[43m,\u001b[49m\n\u001b[1;32m   1885\u001b[0m \u001b[43m    \u001b[49m\u001b[43mmemory_map\u001b[49m\u001b[38;5;241;43m=\u001b[39;49m\u001b[38;5;28;43mself\u001b[39;49m\u001b[38;5;241;43m.\u001b[39;49m\u001b[43moptions\u001b[49m\u001b[38;5;241;43m.\u001b[39;49m\u001b[43mget\u001b[49m\u001b[43m(\u001b[49m\u001b[38;5;124;43m\"\u001b[39;49m\u001b[38;5;124;43mmemory_map\u001b[39;49m\u001b[38;5;124;43m\"\u001b[39;49m\u001b[43m,\u001b[49m\u001b[43m \u001b[49m\u001b[38;5;28;43;01mFalse\u001b[39;49;00m\u001b[43m)\u001b[49m\u001b[43m,\u001b[49m\n\u001b[1;32m   1886\u001b[0m \u001b[43m    \u001b[49m\u001b[43mis_text\u001b[49m\u001b[38;5;241;43m=\u001b[39;49m\u001b[43mis_text\u001b[49m\u001b[43m,\u001b[49m\n\u001b[1;32m   1887\u001b[0m \u001b[43m    \u001b[49m\u001b[43merrors\u001b[49m\u001b[38;5;241;43m=\u001b[39;49m\u001b[38;5;28;43mself\u001b[39;49m\u001b[38;5;241;43m.\u001b[39;49m\u001b[43moptions\u001b[49m\u001b[38;5;241;43m.\u001b[39;49m\u001b[43mget\u001b[49m\u001b[43m(\u001b[49m\u001b[38;5;124;43m\"\u001b[39;49m\u001b[38;5;124;43mencoding_errors\u001b[39;49m\u001b[38;5;124;43m\"\u001b[39;49m\u001b[43m,\u001b[49m\u001b[43m \u001b[49m\u001b[38;5;124;43m\"\u001b[39;49m\u001b[38;5;124;43mstrict\u001b[39;49m\u001b[38;5;124;43m\"\u001b[39;49m\u001b[43m)\u001b[49m\u001b[43m,\u001b[49m\n\u001b[1;32m   1888\u001b[0m \u001b[43m    \u001b[49m\u001b[43mstorage_options\u001b[49m\u001b[38;5;241;43m=\u001b[39;49m\u001b[38;5;28;43mself\u001b[39;49m\u001b[38;5;241;43m.\u001b[39;49m\u001b[43moptions\u001b[49m\u001b[38;5;241;43m.\u001b[39;49m\u001b[43mget\u001b[49m\u001b[43m(\u001b[49m\u001b[38;5;124;43m\"\u001b[39;49m\u001b[38;5;124;43mstorage_options\u001b[39;49m\u001b[38;5;124;43m\"\u001b[39;49m\u001b[43m,\u001b[49m\u001b[43m \u001b[49m\u001b[38;5;28;43;01mNone\u001b[39;49;00m\u001b[43m)\u001b[49m\u001b[43m,\u001b[49m\n\u001b[1;32m   1889\u001b[0m \u001b[43m\u001b[49m\u001b[43m)\u001b[49m\n\u001b[1;32m   1890\u001b[0m \u001b[38;5;28;01massert\u001b[39;00m \u001b[38;5;28mself\u001b[39m\u001b[38;5;241m.\u001b[39mhandles \u001b[38;5;129;01mis\u001b[39;00m \u001b[38;5;129;01mnot\u001b[39;00m \u001b[38;5;28;01mNone\u001b[39;00m\n\u001b[1;32m   1891\u001b[0m f \u001b[38;5;241m=\u001b[39m \u001b[38;5;28mself\u001b[39m\u001b[38;5;241m.\u001b[39mhandles\u001b[38;5;241m.\u001b[39mhandle\n",
      "File \u001b[0;32m~/anaconda3/envs/chromalab/lib/python3.11/site-packages/pandas/io/common.py:873\u001b[0m, in \u001b[0;36mget_handle\u001b[0;34m(path_or_buf, mode, encoding, compression, memory_map, is_text, errors, storage_options)\u001b[0m\n\u001b[1;32m    868\u001b[0m \u001b[38;5;28;01melif\u001b[39;00m \u001b[38;5;28misinstance\u001b[39m(handle, \u001b[38;5;28mstr\u001b[39m):\n\u001b[1;32m    869\u001b[0m     \u001b[38;5;66;03m# Check whether the filename is to be opened in binary mode.\u001b[39;00m\n\u001b[1;32m    870\u001b[0m     \u001b[38;5;66;03m# Binary mode does not support 'encoding' and 'newline'.\u001b[39;00m\n\u001b[1;32m    871\u001b[0m     \u001b[38;5;28;01mif\u001b[39;00m ioargs\u001b[38;5;241m.\u001b[39mencoding \u001b[38;5;129;01mand\u001b[39;00m \u001b[38;5;124m\"\u001b[39m\u001b[38;5;124mb\u001b[39m\u001b[38;5;124m\"\u001b[39m \u001b[38;5;129;01mnot\u001b[39;00m \u001b[38;5;129;01min\u001b[39;00m ioargs\u001b[38;5;241m.\u001b[39mmode:\n\u001b[1;32m    872\u001b[0m         \u001b[38;5;66;03m# Encoding\u001b[39;00m\n\u001b[0;32m--> 873\u001b[0m         handle \u001b[38;5;241m=\u001b[39m \u001b[38;5;28;43mopen\u001b[39;49m\u001b[43m(\u001b[49m\n\u001b[1;32m    874\u001b[0m \u001b[43m            \u001b[49m\u001b[43mhandle\u001b[49m\u001b[43m,\u001b[49m\n\u001b[1;32m    875\u001b[0m \u001b[43m            \u001b[49m\u001b[43mioargs\u001b[49m\u001b[38;5;241;43m.\u001b[39;49m\u001b[43mmode\u001b[49m\u001b[43m,\u001b[49m\n\u001b[1;32m    876\u001b[0m \u001b[43m            \u001b[49m\u001b[43mencoding\u001b[49m\u001b[38;5;241;43m=\u001b[39;49m\u001b[43mioargs\u001b[49m\u001b[38;5;241;43m.\u001b[39;49m\u001b[43mencoding\u001b[49m\u001b[43m,\u001b[49m\n\u001b[1;32m    877\u001b[0m \u001b[43m            \u001b[49m\u001b[43merrors\u001b[49m\u001b[38;5;241;43m=\u001b[39;49m\u001b[43merrors\u001b[49m\u001b[43m,\u001b[49m\n\u001b[1;32m    878\u001b[0m \u001b[43m            \u001b[49m\u001b[43mnewline\u001b[49m\u001b[38;5;241;43m=\u001b[39;49m\u001b[38;5;124;43m\"\u001b[39;49m\u001b[38;5;124;43m\"\u001b[39;49m\u001b[43m,\u001b[49m\n\u001b[1;32m    879\u001b[0m \u001b[43m        \u001b[49m\u001b[43m)\u001b[49m\n\u001b[1;32m    880\u001b[0m     \u001b[38;5;28;01melse\u001b[39;00m:\n\u001b[1;32m    881\u001b[0m         \u001b[38;5;66;03m# Binary mode\u001b[39;00m\n\u001b[1;32m    882\u001b[0m         handle \u001b[38;5;241m=\u001b[39m \u001b[38;5;28mopen\u001b[39m(handle, ioargs\u001b[38;5;241m.\u001b[39mmode)\n",
      "\u001b[0;31mFileNotFoundError\u001b[0m: [Errno 2] No such file or directory: '../../data/pantone/pantone-inks.csv'"
     ]
    },
    {
     "ename": "",
     "evalue": "",
     "output_type": "error",
     "traceback": [
      "\u001b[1;31mThe Kernel crashed while executing code in the current cell or a previous cell. \n",
      "\u001b[1;31mPlease review the code in the cell(s) to identify a possible cause of the failure. \n",
      "\u001b[1;31mClick <a href='https://aka.ms/vscodeJupyterKernelCrash'>here</a> for more info. \n",
      "\u001b[1;31mView Jupyter <a href='command:jupyter.viewOutput'>log</a> for further details."
     ]
    }
   ],
   "source": [
    " ### Analyze our 100 ink gamut ###\n",
    "    # Load the CSV data\n",
    "data_path = \"../../data/pantone/pantone-inks.csv\"\n",
    "df = pd.read_csv(data_path)\n",
    "\n",
    "spectras = df.iloc[:, 2:].to_numpy()  # Extract reflectance data\n",
    "wavelengths = np.arange(400, 701, 10)  # Wavelengths from 400 to 700 nm in steps of 10 nm\n",
    "# Create Spectra objects for each ink\n",
    "all_fp_inks = {}\n",
    "for i in range(spectras.shape[0]):\n",
    "    name = \"\".join([str(df.iloc[i, j]) for j in range(1, 2)])\n",
    "    all_fp_inks[name] = Spectra(data=spectras[i], wavelengths=wavelengths)\n",
    "\n",
    "fp_paper = all_fp_inks.popitem()[1]  # last"
   ]
  },
  {
   "cell_type": "code",
   "execution_count": null,
   "id": "5ae63b8c",
   "metadata": {},
   "outputs": [],
   "source": [
    "fp_paper.plot()"
   ]
  },
  {
   "cell_type": "code",
   "execution_count": null,
   "id": "60489c0b",
   "metadata": {},
   "outputs": [],
   "source": [
    "plot_inks_by_hue(all_fp_inks, wavelengths)"
   ]
  },
  {
   "cell_type": "markdown",
   "id": "717728e4",
   "metadata": {},
   "source": [
    "## Observer analysis (tetrachromat)"
   ]
  },
  {
   "cell_type": "code",
   "execution_count": null,
   "id": "e3248226",
   "metadata": {},
   "outputs": [],
   "source": [
    "# Define observer and illuminant\n",
    "d65 = Illuminant.get(\"d65\")\n",
    "tetrachromat = Observer.tetrachromat(illuminant=d65, wavelengths=wavelengths)"
   ]
  },
  {
   "cell_type": "code",
   "execution_count": null,
   "id": "f4403432",
   "metadata": {},
   "outputs": [],
   "source": [
    " # Initialize the ink library|\n",
    "fp_library = InkLibrary(all_fp_inks, fp_paper)"
   ]
  },
  {
   "cell_type": "code",
   "execution_count": null,
   "id": "bc040ca3",
   "metadata": {},
   "outputs": [],
   "source": [
    "# Perform convex hull search\n",
    "top_volumes_all_inks = fp_library.convex_hull_search(tetrachromat, d65)\n",
    "save_top_inks_as_csv(top_volumes_all_inks, \"./ink-combos/top_pantone_ink_combinations_ours.csv\")\n",
    "top_volumes_all_inks = load_top_inks(\"./ink-combos/top_pantone_ink_combinations_ours.csv\")\n"
   ]
  },
  {
   "cell_type": "code",
   "execution_count": null,
   "id": "9de1bab2",
   "metadata": {},
   "outputs": [],
   "source": [
    "top_volumes_5_all_fp_inks = fp_library.convex_hull_search(tetrachromat, d65, k=5)\n",
    "save_top_inks_as_csv(top_volumes_5_all_fp_inks, \"./ink-combos/top_volumes_5_all_fp_inks.csv\")"
   ]
  },
  {
   "cell_type": "code",
   "execution_count": null,
   "id": "7760b0f9",
   "metadata": {},
   "outputs": [],
   "source": [
    "show_top_k_combinations(top_volumes_5_all_fp_inks, all_fp_inks, k=16)"
   ]
  },
  {
   "cell_type": "code",
   "execution_count": null,
   "id": "2f5f02ac",
   "metadata": {},
   "outputs": [],
   "source": [
    "show_top_k_combinations(top_volumes_all_inks, all_fp_inks, k=16)"
   ]
  },
  {
   "cell_type": "code",
   "execution_count": null,
   "id": "be195f3c",
   "metadata": {},
   "outputs": [],
   "source": [
    "best4 = [all_fp_inks[ink_name] for ink_name in top_volumes_all_inks[0][1]]"
   ]
  },
  {
   "cell_type": "code",
   "execution_count": null,
   "id": "afdcfe31",
   "metadata": {},
   "outputs": [],
   "source": [
    "fp_gamut = InkGamut(best4, fp_paper, d65)\n",
    "fp_point_cloud, fp_percentages = fp_gamut.get_point_cloud(tetrachromat)"
   ]
  },
  {
   "cell_type": "code",
   "execution_count": null,
   "id": "b771f845",
   "metadata": {},
   "outputs": [],
   "source": [
    "cs = ColorSpace(tetrachromat)"
   ]
  },
  {
   "cell_type": "code",
   "execution_count": null,
   "id": "fa085155",
   "metadata": {},
   "outputs": [],
   "source": [
    "all_inks_as_points = tetrachromat.observe_spectras(all_fp_inks.values())\n",
    "all_inks_point_cloud = cs.convert(all_inks_as_points, ColorSpaceType.CONE, ColorSpaceType.HERING)[:, 1:]\n",
    "all_inks_srgbs = cs.convert(all_inks_as_points, ColorSpaceType.CONE, ColorSpaceType.SRGB)"
   ]
  },
  {
   "cell_type": "code",
   "execution_count": null,
   "id": "cfd03260",
   "metadata": {},
   "outputs": [],
   "source": [
    "ps.init()\n",
    "ps.set_always_redraw(False)\n",
    "ps.set_ground_plane_mode('shadow_only')\n",
    "ps.set_SSAA_factor(2)\n",
    "ps.set_window_size(720, 720)\n",
    "factor = 0.1575  # 0.1/5.25\n",
    "viz.ps.set_background_color((factor, factor, factor, 1))\n",
    "\n",
    "viz.RenderOBS(\"observer\", cs, PolyscopeDisplayType.HERING_MAXBASIS, num_samples=1000)\n",
    "viz.ps.get_surface_mesh(\"observer\").set_transparency(0.3)\n",
    "\n",
    "viz.RenderPointCloud(\"fp_points\", cs.convert(fp_point_cloud, ColorSpaceType.CONE, ColorSpaceType.HERING)[:, 1:])\n",
    "viz.RenderPointCloud(\"all_fps\", all_inks_point_cloud, all_inks_srgbs)\n",
    "viz.RenderMetamericDirection(\"meta_dir\", tetrachromat, PolyscopeDisplayType.HERING_MAXBASIS, 2,\n",
    "                                 np.array([0, 0, 0]), radius=0.005, scale=1.2)\n",
    "viz.ps.show()"
   ]
  },
  {
   "cell_type": "code",
   "execution_count": null,
   "id": "9dfbc8b6",
   "metadata": {},
   "outputs": [],
   "source": [
    "viz.ps.unshow()"
   ]
  },
  {
   "cell_type": "code",
   "execution_count": null,
   "id": "bbc1e423",
   "metadata": {},
   "outputs": [],
   "source": [
    "save_ps_screenshot()"
   ]
  },
  {
   "cell_type": "code",
   "execution_count": null,
   "id": "64db26ec",
   "metadata": {},
   "outputs": [],
   "source": [
    "save_ps_screenshot()"
   ]
  },
  {
   "cell_type": "code",
   "execution_count": null,
   "id": "ea8e5f28",
   "metadata": {},
   "outputs": [],
   "source": [
    "save_ps_screenshot()"
   ]
  }
 ],
 "metadata": {
  "kernelspec": {
   "display_name": "chromalab",
   "language": "python",
   "name": "python3"
  },
  "language_info": {
   "codemirror_mode": {
    "name": "ipython",
    "version": 3
   },
   "file_extension": ".py",
   "mimetype": "text/x-python",
   "name": "python",
   "nbconvert_exporter": "python",
   "pygments_lexer": "ipython3",
   "version": "3.11.9"
  }
 },
 "nbformat": 4,
 "nbformat_minor": 5
}
